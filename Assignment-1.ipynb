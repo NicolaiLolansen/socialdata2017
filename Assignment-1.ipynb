{
 "cells": [
  {
   "cell_type": "markdown",
   "metadata": {},
   "source": [
    "# Assignment 1\n",
    "#### Social data analysis and visualization 02806\n",
    "#### Technical University of Denmark"
   ]
  },
  {
   "cell_type": "code",
   "execution_count": 156,
   "metadata": {
    "collapsed": true
   },
   "outputs": [],
   "source": [
    "# This cell is included to show what libraries are imported and used in the assignment\n",
    "import csv\n",
    "import matplotlib.pyplot as plt\n",
    "import numpy as np\n",
    "\n",
    "from sklearn.neighbors import KNeighborsClassifier\n",
    "from sklearn import linear_model\n",
    "from sklearn import preprocessing\n",
    "\n",
    "%matplotlib inline"
   ]
  },
  {
   "cell_type": "markdown",
   "metadata": {},
   "source": [
    "## Assignment 1A: Anscombe's quartet"
   ]
  },
  {
   "cell_type": "code",
   "execution_count": 157,
   "metadata": {
    "collapsed": true
   },
   "outputs": [],
   "source": [
    "with open('/Users/tobiasslottjensen/Google Drive/Kandidat DTU/'\n",
    "          'Social data analysis and visualization/SFPD_Incidents_-_from_1_January_2003.csv','r') as infile:\n",
    "    \n",
    "    focuscrimes = ['WEAPON LAWS', 'PROSTITUTION', 'DRIVING UNDER THE INFLUENCE', 'ROBBERY',\n",
    "                   'BURGLARY', 'ASSAULT', 'DRUNKENNESS', 'DRUG/NARCOTIC', 'TRESPASS', 'LARCENY/THEFT',\n",
    "                   'VANDALISM', 'VEHICLE THEFT', 'STOLEN PROPERTY', 'DISORDERLY CONDUCT']\n",
    "    \n",
    "    data = {\n",
    "                \"lat\": [],\n",
    "                \"lon\": [],\n",
    "                \"Category\": [],\n",
    "                \"Date\": [],\n",
    "                \"Time\": [],\n",
    "                \"PdDistrict\": []     \n",
    "    }\n",
    "    \n",
    "    for line in csv.DictReader( infile, delimiter=\",\"):\n",
    "        try:\n",
    "            data[\"lat\"].append(float(line[\"Y\"]))\n",
    "            data[\"lon\"].append(float(line[\"X\"]))\n",
    "            data[\"Category\"].append(line[\"Category\"])\n",
    "            data[\"Date\"].append(line[\"Date\"])\n",
    "            data[\"Time\"].append(line[\"Time\"])\n",
    "            data[\"PdDistrict\"].append(line[\"PdDistrict\"])\n",
    "        except:\n",
    "            print(line)"
   ]
  },
  {
   "cell_type": "code",
   "execution_count": null,
   "metadata": {
    "collapsed": true
   },
   "outputs": [],
   "source": []
  },
  {
   "cell_type": "markdown",
   "metadata": {},
   "source": [
    "## Assignment 1B: KNN"
   ]
  },
  {
   "cell_type": "code",
   "execution_count": null,
   "metadata": {
    "collapsed": true
   },
   "outputs": [],
   "source": []
  },
  {
   "cell_type": "markdown",
   "metadata": {},
   "source": [
    "## Assignment 1C: Linear Regression"
   ]
  },
  {
   "cell_type": "markdown",
   "metadata": {},
   "source": [
    "*__Start by picking an area and a crime type, I recommend starting with all of SF and LARCENY/THEFT so you don't have too many zero counts. Similarly, I recommend using 2015 data for training.__*"
   ]
  },
  {
   "cell_type": "code",
   "execution_count": 158,
   "metadata": {
    "collapsed": true
   },
   "outputs": [],
   "source": [
    "# The chosen area considered in the last three parts. (The area variable is only used for plotting)\n",
    "area = \"ALL DISTRICTS\"\n",
    "# The chosen crime type considered in the last three parts.\n",
    "crime_type = 'LARCENY/THEFT'\n",
    "# The years used for the training set.\n",
    "yrs = [2015]\n",
    "\n",
    "# Create a list for time-of-day (in the range 05:00-17:00) to be used on the xx-axis.\n",
    "hrs = range(5,17)"
   ]
  },
  {
   "cell_type": "markdown",
   "metadata": {},
   "source": [
    "*__We start by creating a scatterplot.__*"
   ]
  },
  {
   "cell_type": "markdown",
   "metadata": {},
   "source": [
    "We will create a scatterplot to show the chosen data for the assignment. We have chosen to work with the recommended data. However the python code is designed so it is easy to try some other training sets (other years, other crime types)."
   ]
  },
  {
   "cell_type": "markdown",
   "metadata": {},
   "source": [
    "*__Go over the training data and bin and observed number of LARCENY/THEFT crimes per hour. You should have 12 data-points per day of training data.__*"
   ]
  },
  {
   "cell_type": "markdown",
   "metadata": {},
   "source": [
    "We will create a data structure to store crime counts for all dates in the data set. It will be a dictionary of lists. The dictionary can be accessed with a date which will return a list. This list is the time bins for each hour in the time interval. The indices in the list corresponds to an hour in the time interval and the list element is the crime count for that hour."
   ]
  },
  {
   "cell_type": "code",
   "execution_count": 159,
   "metadata": {
    "collapsed": true
   },
   "outputs": [],
   "source": [
    "# Initialize a dictionary of lists (a list for each day) for bins corresponding to each hour in time interval\n",
    "bins = {date: [0 for hr in range(5,17)] for date in set(data[\"Date\"])}\n",
    "\n",
    "# Go through training data set\n",
    "for idx in range(len(data[\"Time\"])):\n",
    "    # Get hour and date of crime incident\n",
    "    hr = int(data[\"Time\"][idx].split(\":\")[0])\n",
    "    date = data[\"Date\"][idx]\n",
    "    # Check if crime type and hour corresponds with chosen crime and time interval\n",
    "    if crime_type == data[\"Category\"][idx] and hr in hrs:\n",
    "        # Increment bin of the hour, elements are zero-indexed so we subtract 5 to enter list\n",
    "        bins[date][hr-5] += 1"
   ]
  },
  {
   "cell_type": "code",
   "execution_count": 160,
   "metadata": {
    "collapsed": false
   },
   "outputs": [
    {
     "name": "stdout",
     "output_type": "stream",
     "text": [
      "11/05/2009: [0, 1, 2, 2, 3, 1, 1, 6, 1, 3, 8, 3]\n",
      "10/04/2013: [1, 4, 0, 4, 6, 5, 3, 6, 8, 6, 6, 10]\n",
      "09/17/2014: [0, 1, 1, 1, 4, 4, 5, 5, 3, 3, 8, 9]\n",
      "01/22/2008: [0, 1, 1, 4, 2, 1, 7, 3, 5, 6, 8, 2]\n",
      "04/24/2005: [0, 0, 0, 0, 0, 4, 6, 2, 3, 3, 1, 2]\n"
     ]
    }
   ],
   "source": [
    "# Here we print a small part of the bins data structure.\n",
    "example_dates = ['11/05/2009', '10/04/2013', '09/17/2014', '01/22/2008', '04/24/2005']\n",
    "\n",
    "for date in example_dates:\n",
    "    print date + \": \" + str(bins[date])"
   ]
  },
  {
   "cell_type": "code",
   "execution_count": 161,
   "metadata": {
    "collapsed": false
   },
   "outputs": [
    {
     "name": "stdout",
     "output_type": "stream",
     "text": [
      "Number of days in training set: 365\n"
     ]
    }
   ],
   "source": [
    "# How many days in the training set\n",
    "num_days = 0\n",
    "for date in bins:\n",
    "    # Extract year of the date\n",
    "    yr = int(date.split(\"/\")[2])\n",
    "    if yr in yrs:\n",
    "        num_days += 1\n",
    "        \n",
    "print \"Number of days in training set: \" + str(num_days)"
   ]
  },
  {
   "cell_type": "code",
   "execution_count": 162,
   "metadata": {
    "collapsed": false
   },
   "outputs": [
    {
     "name": "stdout",
     "output_type": "stream",
     "text": [
      "Number of data points: 4380\n"
     ]
    }
   ],
   "source": [
    "# Create data points for scatter plot\n",
    "data_points = [[], []] #Two lists, one to contain all hours (x-values) and one to contain all crime counts (y-values)\n",
    "\n",
    "for date in bins:\n",
    "    # Extract year of the date\n",
    "    yr = int(date.split(\"/\")[2])\n",
    "    for hr,count in enumerate(bins[date]):\n",
    "        # If year is in list of years used for the training set, add data point\n",
    "        if yr in yrs:\n",
    "            data_points[0].append(hr+5) #hr is the index so we add 5 to get the correct hour of the time interval\n",
    "            data_points[1].append(count)\n",
    "            \n",
    "print \"Number of data points: \" + str(len(data_points[0]))"
   ]
  },
  {
   "cell_type": "markdown",
   "metadata": {},
   "source": [
    "*__Plot the (time-of-day, bin-count) tuples. Does it look like there is a correlation?__*"
   ]
  },
  {
   "cell_type": "code",
   "execution_count": 163,
   "metadata": {
    "collapsed": false
   },
   "outputs": [
    {
     "data": {
      "text/plain": [
       "<matplotlib.text.Text at 0x1352af450>"
      ]
     },
     "execution_count": 163,
     "metadata": {},
     "output_type": "execute_result"
    },
    {
     "data": {
      "image/png": "[encoded data removed]",
      "text/plain": [
       "<matplotlib.figure.Figure at 0x132dae690>"
      ]
     },
     "metadata": {},
     "output_type": "display_data"
    }
   ],
   "source": [
    "# Plot the (time-of-day, bin-count) tuples\n",
    "plt.figure(figsize=(10, 6))\n",
    "plt.plot(data_points[0], data_points[1], '.')\n",
    "plt.xlabel('Hour of day')\n",
    "plt.ylabel('Crime frequency')\n",
    "plt.axis([min(hrs)-0.5, max(hrs)+0.5, 0, max(data_points[1])+1])\n",
    "plt.title('Crime occurences of %s in %s' % (crime_type, area))"
   ]
  },
  {
   "cell_type": "markdown",
   "metadata": {},
   "source": [
    "The crime count for this specific crime does seem to be have some correlation with the hours of the chosen time interval. Of course there also are many different crime count values for each time bin but there is some kind of increasing quality about the data. It is steadily increasing during the hours and it looks there more or less is a constant slope. This suspicion is surported by the pearson correlation coeficient between the two (can be seen below). It is clearly positive meaning that if one variable increases the other will too."
   ]
  },
  {
   "cell_type": "markdown",
   "metadata": {},
   "source": [
    "*__Report the Pearson-correlation.__*"
   ]
  },
  {
   "cell_type": "code",
   "execution_count": 164,
   "metadata": {
    "collapsed": false
   },
   "outputs": [
    {
     "name": "stdout",
     "output_type": "stream",
     "text": [
      "The pearson correlation between the hours of the time interval and crime count is: 0.632767134957\n"
     ]
    }
   ],
   "source": [
    "# Compute the Pearson-correlation using numpy\n",
    "pear_corr = np.corrcoef(data_points[0], data_points[1])[0, 1]\n",
    "print \"The pearson correlation between the hours of the time interval and crime count is: \" + str(pear_corr)"
   ]
  },
  {
   "cell_type": "markdown",
   "metadata": {},
   "source": [
    "*__Fit this model to the data (and report $\\alpha$, $\\beta$).__*"
   ]
  },
  {
   "cell_type": "code",
   "execution_count": 165,
   "metadata": {
    "collapsed": false
   },
   "outputs": [
    {
     "data": {
      "text/plain": [
       "LinearRegression(copy_X=True, fit_intercept=True, n_jobs=1, normalize=False)"
      ]
     },
     "execution_count": 165,
     "metadata": {},
     "output_type": "execute_result"
    }
   ],
   "source": [
    "# Now we can fit a straight line to the data.\n",
    "\n",
    "# First create training data using data points.\n",
    "# In the linear regression the input features will simply be the hours (time of day).\n",
    "# The output is the crime count.\n",
    "X_train = np.matrix(data_points[0]).transpose() #Numpy matrix containing input features\n",
    "\n",
    "y_train = np.matrix(data_points[1]).transpose() #Numpy matrix containing output features\n",
    "\n",
    "# Create linear regression object\n",
    "simple_regr = linear_model.LinearRegression()\n",
    "\n",
    "# Train the model using the training sets\n",
    "simple_regr.fit(X_train, y_train)"
   ]
  },
  {
   "cell_type": "code",
   "execution_count": 166,
   "metadata": {
    "collapsed": false
   },
   "outputs": [
    {
     "name": "stdout",
     "output_type": "stream",
     "text": [
      "Coefficients in regression model\n",
      "Alpha: -1.68252706198\n",
      "Beta: 0.566241977201\n"
     ]
    }
   ],
   "source": [
    "# The coefficients of simple regression model\n",
    "print \"Coefficients in regression model\"\n",
    "print \"Alpha: \" + str(simple_regr.intercept_[0])\n",
    "print \"Beta: \" + str(simple_regr.coef_[0][0])"
   ]
  },
  {
   "cell_type": "markdown",
   "metadata": {},
   "source": [
    "*__Add the straight line to your scatterplot.__*"
   ]
  },
  {
   "cell_type": "markdown",
   "metadata": {},
   "source": [
    "Now we have fitted the regression model to the training set using **scikit learn** and the python object \"simple_regr\" contains the model. We can make prediction with this model using the \".predict\" command."
   ]
  },
  {
   "cell_type": "code",
   "execution_count": 167,
   "metadata": {
    "collapsed": false
   },
   "outputs": [
    {
     "data": {
      "image/png": "[encoded data removed]",
      "text/plain": [
       "<matplotlib.figure.Figure at 0x1289670d0>"
      ]
     },
     "metadata": {},
     "output_type": "display_data"
    }
   ],
   "source": [
    "# Plot the (time-of-day, bin-count) tuples with regression line\n",
    "plt.figure(figsize=(10, 6))\n",
    "plt.plot(data_points[0], data_points[1], '.')\n",
    "plt.plot(range(4,18), simple_regr.predict(np.matrix(range(4,18)).transpose()), color='red', linewidth=3)\n",
    "plt.xlabel('Hour of day')\n",
    "plt.ylabel('Crime frequency')\n",
    "plt.axis([min(hrs)-0.5, max(hrs)+0.5, 0, max(data_points[1])+1])\n",
    "plt.title('Crime occurences of %s in %s with regression line' % (crime_type, area))\n",
    "\n",
    "plt.show()"
   ]
  },
  {
   "cell_type": "markdown",
   "metadata": {},
   "source": [
    "As expected the line has a positive slope. There seems to be a lot of points above the line but this is caused by the fact that the many points below is right on top of each other, so they are not all visible in the plot."
   ]
  },
  {
   "cell_type": "markdown",
   "metadata": {},
   "source": [
    "## Assignment 1D: Multiple Regression"
   ]
  },
  {
   "cell_type": "markdown",
   "metadata": {},
   "source": [
    "*__Explain in your own words the reasoning between the two bullets above.__*  \n",
    "\n",
    "As mentioned in the assignment description and the textbook it is important that the input variables are not correlated when using multiple features. By transforming the total crime count, which is defintely correlated with time-of-day, we can make sure that the second input feature to the model is independent from the first. The question is then whether or not the new second feature will be correlated with crime count and improve the linear regression model. If the effective number of crimes can improve the model, it should have a better performance when predicting crime counts.  \n",
    "\n",
    "The second bullit point is about rescaling the data. It very msart to rescale the input variables when using multiple features because it let us avoid extreme values of the coefficients in the model. If the data values are very small for one feature but very large for another it could result in a relatively big $\\beta$ value, which will basically render small $\\beta$'s for other variables useless. So for good measure we rescale all input features to the same range."
   ]
  },
  {
   "cell_type": "markdown",
   "metadata": {},
   "source": [
    "*__Start by preparing your data as described in Point 1 and 2.__*"
   ]
  },
  {
   "cell_type": "markdown",
   "metadata": {},
   "source": [
    "*__Point 1__*"
   ]
  },
  {
   "cell_type": "code",
   "execution_count": 168,
   "metadata": {
    "collapsed": false
   },
   "outputs": [
    {
     "name": "stdout",
     "output_type": "stream",
     "text": [
      "Crime count averages for time bins:\n",
      "     0.748\n",
      "     1.167\n",
      "     1.586\n",
      "     2.704\n",
      "     3.742\n",
      "     5.049\n",
      "     5.523\n",
      "     6.490\n",
      "     5.715\n",
      "     5.584\n",
      "     6.195\n",
      "     6.652\n"
     ]
    }
   ],
   "source": [
    "# Compute average number of crimes for each for the chosen time interval\n",
    "c_avg = [0 for hr in range(5,17)] #Initialize list with average for each time bin\n",
    "\n",
    "# Compute averages one time bin at a time\n",
    "for i in range(len(c_avg)):\n",
    "    # Go through all dates\n",
    "    for date in bins:\n",
    "        # Extract year of the date\n",
    "        yr = int(date.split(\"/\")[2])\n",
    "        # If year is in list of years used for the training set, add crime count for the date to total count\n",
    "        if yr in yrs:\n",
    "            c_avg[i] += bins[date][i]\n",
    "    # Calculate average\n",
    "    c_avg[i] /= float(num_days)\n",
    "    \n",
    "print \"Crime count averages for time bins:\"\n",
    "for idx in range(len(c_avg)):\n",
    "    print '{:10.3f}'.format(c_avg[idx])"
   ]
  },
  {
   "cell_type": "code",
   "execution_count": 169,
   "metadata": {
    "collapsed": true
   },
   "outputs": [],
   "source": [
    "# Compute the effective number of crimes for each observation (each data point in training set)\n",
    "c_eff = [] #List with number of elements equal to number of data points\n",
    "\n",
    "# Go through observed crime counts (stored in data_points) and find c_eff\n",
    "# Go through data_points so indices for incidents is correct\n",
    "for idx,time_bin in enumerate(data_points[0]):\n",
    "    c_eff_idx = c_avg[time_bin-5] - data_points[1][idx]\n",
    "    c_eff.append(c_eff_idx)\n",
    "    \n",
    "# Add the effective number of crimes for each observation to data_points, i.e. add them as input features\n",
    "data_points.append(c_eff)"
   ]
  },
  {
   "cell_type": "code",
   "execution_count": 170,
   "metadata": {
    "collapsed": false
   },
   "outputs": [
    {
     "name": "stdout",
     "output_type": "stream",
     "text": [
      "    -0.252\n",
      "    -1.833\n",
      "     1.586\n",
      "    -3.296\n",
      "    -2.258\n",
      "     4.049\n",
      "    -5.477\n",
      "     0.490\n",
      "     1.715\n",
      "    -4.416\n"
     ]
    }
   ],
   "source": [
    "# Here we show the first 10 c_eff values\n",
    "for idx in range(10):\n",
    "    print '{:10.3f}'.format(data_points[2][idx])"
   ]
  },
  {
   "cell_type": "code",
   "execution_count": 180,
   "metadata": {
    "collapsed": false
   },
   "outputs": [
    {
     "name": "stdout",
     "output_type": "stream",
     "text": [
      "The pearson correlation between time-of-day and effective number of crimes is: 2.06332410604e-17\n"
     ]
    }
   ],
   "source": [
    "# Test to see if input features are correlated\n",
    "pear_corr = np.corrcoef(data_points[0], data_points[2])[0, 1]\n",
    "print \"The pearson correlation between time-of-day and effective number of crimes is: \" + str(pear_corr)"
   ]
  },
  {
   "cell_type": "markdown",
   "metadata": {},
   "source": [
    "The pearson correlation coefficient for the two input features are approximately zero which indicates no correlation between the variables. This mean that an important requirement about the multiple regression model will be fulfilled, and we can fit the data to a model."
   ]
  },
  {
   "cell_type": "code",
   "execution_count": 171,
   "metadata": {
    "collapsed": false
   },
   "outputs": [
    {
     "data": {
      "image/png": "[encoded data removed]",
      "text/plain": [
       "<matplotlib.figure.Figure at 0x128a37fd0>"
      ]
     },
     "metadata": {},
     "output_type": "display_data"
    }
   ],
   "source": [
    "# THIS CELL SHOULD MAYBE NOT BE INCLUDED NICOLAI\n",
    "import pylab\n",
    "from mpl_toolkits.mplot3d import Axes3D\n",
    "\n",
    "fig = pylab.figure()\n",
    "ax = Axes3D(fig)\n",
    "\n",
    "ax.scatter(data_points[0], data_points[2], data_points[1])\n",
    "plt.show()"
   ]
  },
  {
   "cell_type": "markdown",
   "metadata": {},
   "source": [
    "*__Point 2__*"
   ]
  },
  {
   "cell_type": "code",
   "execution_count": 172,
   "metadata": {
    "collapsed": false
   },
   "outputs": [
    {
     "name": "stderr",
     "output_type": "stream",
     "text": [
      "/Users/tobiasslottjensen/anaconda2/lib/python2.7/site-packages/sklearn/preprocessing/data.py:321: DeprecationWarning: Passing 1d arrays as data is deprecated in 0.17 and will raise ValueError in 0.19. Reshape your data either using X.reshape(-1, 1) if your data has a single feature or X.reshape(1, -1) if it contains a single sample.\n",
      "  warnings.warn(DEPRECATION_MSG_1D, DeprecationWarning)\n",
      "/Users/tobiasslottjensen/anaconda2/lib/python2.7/site-packages/sklearn/preprocessing/data.py:356: DeprecationWarning: Passing 1d arrays as data is deprecated in 0.17 and will raise ValueError in 0.19. Reshape your data either using X.reshape(-1, 1) if your data has a single feature or X.reshape(1, -1) if it contains a single sample.\n",
      "  warnings.warn(DEPRECATION_MSG_1D, DeprecationWarning)\n",
      "/Users/tobiasslottjensen/anaconda2/lib/python2.7/site-packages/sklearn/preprocessing/data.py:321: DeprecationWarning: Passing 1d arrays as data is deprecated in 0.17 and will raise ValueError in 0.19. Reshape your data either using X.reshape(-1, 1) if your data has a single feature or X.reshape(1, -1) if it contains a single sample.\n",
      "  warnings.warn(DEPRECATION_MSG_1D, DeprecationWarning)\n",
      "/Users/tobiasslottjensen/anaconda2/lib/python2.7/site-packages/sklearn/preprocessing/data.py:356: DeprecationWarning: Passing 1d arrays as data is deprecated in 0.17 and will raise ValueError in 0.19. Reshape your data either using X.reshape(-1, 1) if your data has a single feature or X.reshape(1, -1) if it contains a single sample.\n",
      "  warnings.warn(DEPRECATION_MSG_1D, DeprecationWarning)\n"
     ]
    }
   ],
   "source": [
    "# Rescale the hours and effective number of crimes for each observation\n",
    "\n",
    "# We use a rescaling tool from the scikit learn library in python\n",
    "scaler = preprocessing.MinMaxScaler()\n",
    "\n",
    "# Here we both input features (the scaler will as default scale data to range [0,1])\n",
    "data_points_scaled = [scaler.fit_transform(data_points[0]), scaler.fit_transform(data_points[2])]"
   ]
  },
  {
   "cell_type": "code",
   "execution_count": 173,
   "metadata": {
    "collapsed": false
   },
   "outputs": [
    {
     "name": "stdout",
     "output_type": "stream",
     "text": [
      "     0.000      0.651\n",
      "     0.091      0.569\n",
      "     0.182      0.746\n",
      "     0.273      0.493\n",
      "     0.364      0.547\n",
      "     0.455      0.873\n",
      "     0.545      0.380\n",
      "     0.636      0.689\n",
      "     0.727      0.753\n",
      "     0.818      0.435\n",
      "     0.909      0.726\n",
      "     1.000      0.542\n"
     ]
    }
   ],
   "source": [
    "# Here we show the first 12 scaled input features in the data points\n",
    "for idx in range(12):\n",
    "    print str('{:10.3f}'.format(data_points_scaled[0][idx])) + \" \" + str('{:10.3f}'.format(data_points_scaled[1][idx]))"
   ]
  },
  {
   "cell_type": "markdown",
   "metadata": {},
   "source": [
    "*__Fit the data using multiple regression. Report $\\alpha$, $\\beta_1$, $\\beta_2$.__*"
   ]
  },
  {
   "cell_type": "code",
   "execution_count": 174,
   "metadata": {
    "collapsed": false
   },
   "outputs": [
    {
     "data": {
      "text/plain": [
       "LinearRegression(copy_X=True, fit_intercept=True, n_jobs=1, normalize=False)"
      ]
     },
     "execution_count": 174,
     "metadata": {},
     "output_type": "execute_result"
    }
   ],
   "source": [
    "# First create training data using hours in time interval, effective number of crimes and crime counts\n",
    "# In this regression there are two input features (time of day, c_eff)\n",
    "# The output is the crime count\n",
    "X2_train = np.matrix([data_points_scaled[0],data_points_scaled[1]]).transpose()\n",
    "\n",
    "y_train = np.matrix(data_points[1]).transpose()\n",
    "\n",
    "# Create linear regression object (We normalize/rescale the input features in the regression)\n",
    "multi_regr = linear_model.LinearRegression()\n",
    "\n",
    "# Train the model using the training sets\n",
    "multi_regr.fit(X2_train, y_train)"
   ]
  },
  {
   "cell_type": "code",
   "execution_count": 175,
   "metadata": {
    "collapsed": false
   },
   "outputs": [
    {
     "name": "stdout",
     "output_type": "stream",
     "text": [
      "Coefficients in regression model\n",
      "Alpha: 13.9541622761\n",
      "Beta: [  6.22866175 -19.29589041]\n"
     ]
    }
   ],
   "source": [
    "# The coefficients of multiple regression model\n",
    "print \"Coefficients in regression model\"\n",
    "print \"Alpha: \" + str(multi_regr.intercept_[0])\n",
    "print \"Beta: \" + str(multi_regr.coef_[0])"
   ]
  },
  {
   "cell_type": "markdown",
   "metadata": {},
   "source": [
    "## Assignment 1E: Simple evaluation of regression models"
   ]
  },
  {
   "cell_type": "markdown",
   "metadata": {},
   "source": [
    "*__We test on two separate weeks of data from 2016. We use the first 7 days (Week A) of January 2016 and first 7 days of June 2016 (Week B).__*"
   ]
  },
  {
   "cell_type": "code",
   "execution_count": 176,
   "metadata": {
    "collapsed": true
   },
   "outputs": [],
   "source": [
    "# First extract the bins (crime counts) for the days in weeks A and B\n",
    "test_days = range(1,8)\n",
    "test_months = [1, 6]\n",
    "test_yrs = [2016]\n",
    "\n",
    "# Initialize the same kind of data structure as bins but only for test dates\n",
    "test_bins = {}\n",
    "# Go through all dates\n",
    "for date in bins:\n",
    "    # Extract day, month and year of the date\n",
    "    day = int(date.split(\"/\")[0])\n",
    "    month = int(date.split(\"/\")[1])\n",
    "    yr = int(date.split(\"/\")[2])\n",
    "    # If the date is one of the test dates add crime count bins to test_bins\n",
    "    if day in test_days and month in test_months and yr in test_yrs:\n",
    "        test_bins[date] = bins[date]\n",
    "        \n",
    "# Create two test sets. Each of these list of lists correspond to data_points used earlier.\n",
    "test_A = [[], []]; test_B = [[], []]\n",
    "\n",
    "# Go through all test dates\n",
    "for date in test_bins:\n",
    "    # Extract month of the test date\n",
    "    month = int(date.split(\"/\")[1])\n",
    "    for hr,count in enumerate(test_bins[date]):\n",
    "        # If the months is January add hour and crime count to set A\n",
    "        if month == 1:\n",
    "            test_A[0].append(hr+5) #hr is the index so we add 5 to get the correct hour of the time interval\n",
    "            test_A[1].append(count)\n",
    "        # If the months is June add hour and crime count to set A\n",
    "        elif month == 6:\n",
    "            test_B[0].append(hr+5) #hr is the index so we add 5 to get the correct hour of the time interval\n",
    "            test_B[1].append(count)"
   ]
  },
  {
   "cell_type": "code",
   "execution_count": 177,
   "metadata": {
    "collapsed": true
   },
   "outputs": [],
   "source": [
    "# Compute the effective number of crimes for test sets\n",
    "c_eff_A = []; c_eff_B = [] #Lists with number of elements equal to number of data points\n",
    "\n",
    "# Go through observed crime counts (stored in test_A and test_B) and find c_eff\n",
    "# Go through data_points so indices for incidents is correct\n",
    "for idx,time_bin in enumerate(test_A[0]):\n",
    "    c_eff_idx_A = c_avg[time_bin-5] - test_A[1][idx]\n",
    "    c_eff_idx_B = c_avg[time_bin-5] - test_B[1][idx]\n",
    "    c_eff_A.append(c_eff_idx_A)\n",
    "    c_eff_B.append(c_eff_idx_B)\n",
    "    \n",
    "# Add the effective number of crimes for each observation to data_points, i.e. add them as input features\n",
    "test_A.append(c_eff_A)\n",
    "test_B.append(c_eff_B)"
   ]
  },
  {
   "cell_type": "markdown",
   "metadata": {},
   "source": [
    "*__Report the performance of Simple & Multiple Regression for Weeks A & B.__*"
   ]
  },
  {
   "cell_type": "code",
   "execution_count": 178,
   "metadata": {
    "collapsed": true
   },
   "outputs": [],
   "source": [
    "# Now we evaluate the models by reporting the performance of Simple & Multiple Regression for Weeks A & B\n",
    "\n",
    "# First create test sets as numpy matrices\n",
    "X_test_A = np.matrix(test_A[0]).transpose()\n",
    "X_test_B = np.matrix(test_B[0]).transpose()\n",
    "\n",
    "X2_test_A = np.matrix([test_A[0],test_A[2]]).transpose()\n",
    "X2_test_B = np.matrix([test_B[0],test_B[2]]).transpose()\n",
    "\n",
    "y_test_A = np.matrix(test_A[1]).transpose()\n",
    "y_test_B = np.matrix(test_B[1]).transpose()"
   ]
  },
  {
   "cell_type": "code",
   "execution_count": 179,
   "metadata": {
    "collapsed": false
   },
   "outputs": [
    {
     "name": "stdout",
     "output_type": "stream",
     "text": [
      "The performance of Simple & Multiple Regression.\n",
      "\n",
      "\tWeek A\tWeek B\n",
      "Simple\t1.922\t1.786\n",
      "Multi\t2.147\t2.375\n"
     ]
    }
   ],
   "source": [
    "# Predict crime counts and find absolute differences for both models for both weeks\n",
    "err_simple_A = np.absolute(simple_regr.predict(X_test_A) - y_test_A)\n",
    "err_simple_B = np.absolute(simple_regr.predict(X_test_B) - y_test_B)\n",
    "err_multi_A = np.absolute(multi_regr.predict(scaler.fit_transform(X2_test_A)) - y_test_A)\n",
    "err_multi_B = np.absolute(multi_regr.predict(scaler.fit_transform(X2_test_B)) - y_test_B)\n",
    "\n",
    "# Find average errors using numpy\n",
    "avg_err = [np.mean(err_simple_A), np.mean(err_simple_B), np.mean(err_multi_A), np.mean(err_multi_B)]\n",
    "\n",
    "print \"The performance of Simple & Multiple Regression.\"\n",
    "print \"\\n\\tWeek A\\tWeek B\"\n",
    "print \"Simple\\t\" + str('{:5.3f}'.format(avg_err[0])) + \"\\t\" + str('{:5.3f}'.format(avg_err[1]))\n",
    "print \"Multi\\t\" + str('{:5.3f}'.format(avg_err[2])) + \"\\t\" + str('{:5.3f}'.format(avg_err[3]))"
   ]
  },
  {
   "cell_type": "markdown",
   "metadata": {},
   "source": [
    "*__Comment on your results.__*  \n",
    "\n",
    "The average errors seem to be higher for the mulitple regression model when the variable are rescaled. However if the errors are rounded off to integers they will be same as they will all be 2. This suggests that we have not improved the regression model by adding the second input feature (at least not on this test set). Based only on test sets A and B we cannot say the multiple regression model is better, further testing could maybe tell us something more. When adding more input features with higher dimensions to a model we risk doing overfitting to the given data, however we have only added a single (transformed) variable to the model and the test error did not decrease so overfitting is no problem here."
   ]
  },
  {
   "cell_type": "code",
   "execution_count": null,
   "metadata": {
    "collapsed": true
   },
   "outputs": [],
   "source": []
  }
 ],
 "metadata": {
  "kernelspec": {
   "display_name": "Python [Root]",
   "language": "python",
   "name": "Python [Root]"
  },
  "language_info": {
   "codemirror_mode": {
    "name": "ipython",
    "version": 2
   },
   "file_extension": ".py",
   "mimetype": "text/x-python",
   "name": "python",
   "nbconvert_exporter": "python",
   "pygments_lexer": "ipython2",
   "version": "2.7.12"
  }
 },
 "nbformat": 4,
 "nbformat_minor": 0
}
